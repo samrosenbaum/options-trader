{
 "cells": [
  {
   "cell_type": "markdown",
   "metadata": {},
   "source": [
    "# Sharp Move Scanner Demo\n",
    "\n",
    "This notebook demonstrates running the Sharp Move options strategy."
   ]
  },
  {
   "cell_type": "code",
   "execution_count": null,
   "metadata": {},
   "outputs": [],
   "source": [
    "from strategies.sharp_move_scanner.pipeline import load_config, SharpMoveScanner\n",
    "config = load_config()\n",
    "scanner = SharpMoveScanner(config)\n",
    "df = scanner.run(tickers=['GOOGL', 'NVDA'], exp_window=(1, 7), min_score=60)\n",
    "df.head()"
   ]
  }
 ],
 "metadata": {
  "kernelspec": {
   "display_name": "Python 3",
   "language": "python",
   "name": "python3"
  },
  "language_info": {
   "name": "python",
   "version": "3.x"
  }
 },
 "nbformat": 4,
 "nbformat_minor": 5
}
